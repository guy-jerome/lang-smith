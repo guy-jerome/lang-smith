{
 "cells": [
  {
   "cell_type": "markdown",
   "metadata": {},
   "source": [
    "# LangSmith Demo\n",
    "    By Aaron Roberts\n",
    "\n",
    "* LangSmith is a platform for building production-grade LLM applications. URL: https://smith.langchain.com/\n",
    "* It lets you debug, test, evaluate, and monitor chains and intelligent agents built on any LLM framework\n",
    "* It seamlessly integrates with LangChain, the go-to open source framework for building with LLMs.\n",
    "\n",
    "    ** It is in a private Beta and need to be added to wait list (I got an account almost instantly) **\n",
    "\n",
    "### Set Environment Variables\n",
    "All you need to do in order to use LangSmith is to set a number of Environment Variables"
   ]
  },
  {
   "cell_type": "code",
   "execution_count": 11,
   "metadata": {},
   "outputs": [],
   "source": [
    "import os\n",
    "\n",
    "#LangSmith API keys:\n",
    "os.environ['LANGCHAIN_API_KEY'] = os.getenv('LANGCHAIN_API_KEY') # API key on LangSmith\n",
    "os.environ['LANGCHAIN_TRACING_V2'] = 'true' # Enable Tracing\n",
    "os.environ['LANGCHAIN_ENDPOINT'] = \"https://api.smith.langchain.com\" # Cloud end point\n",
    "os.environ['LANGCHAIN_PROJECT'] = \"Agent_Test\" # Project name\n",
    "\n",
    "# Other API KEYS:\n",
    "os.environ['OPENAI_API_KEY'] = os.getenv('OPENAI_API_KEY')\n",
    "os.environ['SERPAPI_API_KEY'] = os.getenv('SERPAPI_API_KEY') # For internet searches"
   ]
  },
  {
   "cell_type": "markdown",
   "metadata": {},
   "source": [
    "### Setup the LangSmith API"
   ]
  },
  {
   "cell_type": "code",
   "execution_count": 12,
   "metadata": {},
   "outputs": [],
   "source": [
    "from langsmith import Client\n",
    "\n",
    "client = Client() #generate a client object so we can upload datasets and run tests"
   ]
  },
  {
   "cell_type": "markdown",
   "metadata": {},
   "source": [
    "### Build a Basic Agent"
   ]
  },
  {
   "cell_type": "code",
   "execution_count": 13,
   "metadata": {},
   "outputs": [],
   "source": [
    "from operator import itemgetter \n",
    "\n",
    "from langchain import hub #This is a prompt repository\n",
    "from langchain.agents import AgentExecutor, load_tools #Loads an Agent with tool capabilites, a way to load in tools by name\n",
    "from langchain.agents.format_scratchpad import format_to_openai_functions # Convert Agent Actions and Tool outputs into function messages\n",
    "from langchain.agents.output_parsers import OpenAIFunctionsAgentOutputParser # Parses a message into an Agent Action or the final output\n",
    "from langchain.chat_models import ChatOpenAI #This is the basic chat API for OpenAI\n",
    "from langchain.tools.render import format_tool_to_openai_function #Converts tool to match the openAI function\n",
    "\n",
    "llm = ChatOpenAI(temperature=0) # Creates a llm connection 3.5 turbo by default\n",
    "tools = load_tools([\"serpapi\", \"llm-math\"], llm=llm) # Load in the tools\n",
    "llm_with_tools = llm.bind(functions = [format_tool_to_openai_function(t) for t in tools]) # Adding the tools as OpenAI functions\n",
    "\n",
    "prompt = hub.pull(\"wfh/agent-lcel-prompt\") # Pulls a prompt from langhub that works well with agents with tools\n",
    "\n",
    "\n",
    "#Builds out the agent using LCEL (langChain expression language)\n",
    "agent = (\n",
    "    {\n",
    "        \"input\": lambda x: x[\"input\"],\n",
    "        \"agent_scratchpad\": lambda x: format_to_openai_functions(\n",
    "            x[\"intermediate_steps\"]\n",
    "        ),\n",
    "    }\n",
    "    | prompt\n",
    "    | llm_with_tools\n",
    "    | OpenAIFunctionsAgentOutputParser()\n",
    ")\n",
    "\n",
    "# Build the Agent RunTime\n",
    "agent_executor = AgentExecutor(\n",
    "    agent=agent,\n",
    "    tools=tools,\n",
    "    handle_parsing_errors=True,\n",
    "    return_intermediate_steps=True\n",
    ")"
   ]
  },
  {
   "cell_type": "markdown",
   "metadata": {},
   "source": [
    "### Create Some Inputs for the Agent"
   ]
  },
  {
   "cell_type": "code",
   "execution_count": 14,
   "metadata": {},
   "outputs": [],
   "source": [
    "inputs = [\n",
    "    \"What is the number of cats in the US multiplied by the number of cats in China\",\n",
    "    \"How much is all of the cats in the world multiplied by the number of the number of legs that a cat has?\",\n",
    "    \"How many cats are there in the US divided by the number of US citizens?\",\n",
    "    \"How much larger is an average cat to an average dog?\",\n",
    "    \"Are there more dogs or cats in the US?\",\n",
    "    \"What is the size ratio from the largest cat to the smallest cat?\",\n",
    "    \"How many cats does it take to fill a 1500 square foot house?\",\n",
    "    \"How many more hours per day do cats sleep than the average human?\",\n",
    "    \"How many cat themed Gods are there compared to dog themed Gods?\",\n",
    "    \"Is the largest rat bigger than the smallest cat?\"\n",
    "]"
   ]
  },
  {
   "cell_type": "markdown",
   "metadata": {},
   "source": [
    "### Batch the inputs and send them langsmith."
   ]
  },
  {
   "cell_type": "code",
   "execution_count": 15,
   "metadata": {},
   "outputs": [],
   "source": [
    "results = agent_executor.batch([{\"input\": x} for x in inputs], return_exceptions=True)"
   ]
  },
  {
   "cell_type": "code",
   "execution_count": 7,
   "metadata": {},
   "outputs": [
    {
     "data": {
      "text/plain": [
       "{'input': 's the largest rat bigger than the smallest cat?',\n",
       " 'output': 'The largest rat, known as the Gambian pouched rat, can grow up to 3 feet long including the tail. On the other hand, the smallest cat breed, the Singapura, typically weighs around 4-8 pounds and is about 8-10 inches tall. So, the largest rat is generally bigger than the smallest cat.',\n",
       " 'intermediate_steps': []}"
      ]
     },
     "execution_count": 7,
     "metadata": {},
     "output_type": "execute_result"
    }
   ],
   "source": [
    "agent_executor.invoke({\"input\":\"s the largest rat bigger than the smallest cat?\"})"
   ]
  }
 ],
 "metadata": {
  "kernelspec": {
   "display_name": "Python 3",
   "language": "python",
   "name": "python3"
  },
  "language_info": {
   "codemirror_mode": {
    "name": "ipython",
    "version": 3
   },
   "file_extension": ".py",
   "mimetype": "text/x-python",
   "name": "python",
   "nbconvert_exporter": "python",
   "pygments_lexer": "ipython3",
   "version": "3.11.0"
  }
 },
 "nbformat": 4,
 "nbformat_minor": 2
}
